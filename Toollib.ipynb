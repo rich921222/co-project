{
 "cells": [
  {
   "cell_type": "code",
   "execution_count": 4,
   "metadata": {},
   "outputs": [],
   "source": [
    "import numpy as np\n",
    "import matplotlib.pyplot as plt\n",
    "from xxhash import xxh32\n",
    "import B2D\n",
    "from skimage import io"
   ]
  },
  {
   "cell_type": "markdown",
   "metadata": {},
   "source": [
    "### APPM_RT(B)\n",
    "    Input:  B 進制\n",
    "    Return: APPM_reference_table in base B"
   ]
  },
  {
   "cell_type": "code",
   "execution_count": 7,
   "metadata": {},
   "outputs": [],
   "source": [
    "def APPM_RT(B):\n",
    "    x = int(np.sqrt(B))\n",
    "    small_RT = np.array(np.random.choice(range(B), B, replace=False)).reshape(x, x)\n",
    "    RT = np.zeros((B, B), dtype=int)  \n",
    "    for i in range(0, B, x):\n",
    "        for j in range(0, B, x):\n",
    "            RT[i:i+x, j:j+x] = small_RT\n",
    "    return RT"
   ]
  },
  {
   "cell_type": "code",
   "execution_count": 9,
   "metadata": {},
   "outputs": [],
   "source": [
    "table = APPM_RT(256)"
   ]
  },
  {
   "cell_type": "markdown",
   "metadata": {},
   "source": [
    "### Queue()\n",
    "    Input:  Null\n",
    "    Return: empty queue"
   ]
  },
  {
   "cell_type": "code",
   "execution_count": 29,
   "metadata": {},
   "outputs": [],
   "source": [
    "class Queue():\n",
    "    def __init__(self):\n",
    "        self.q = []\n",
    "        self.r = -1\n",
    "    def reset(self):\n",
    "        self.q = []\n",
    "        self.r = -1    \n",
    "    def enqueue(self,r,c):\n",
    "        self.q.append((r,c))\n",
    "    def dequeue(self):\n",
    "        self.r += 1\n",
    "        if self.r >= len(self.q):\n",
    "            return False\n",
    "        return self.q[self.r]"
   ]
  },
  {
   "cell_type": "markdown",
   "metadata": {},
   "source": [
    "### BFS(RT,r,c,g)\n",
    "    Input:  reference table ,row ,column ,goal\n",
    "    Return: the nearest goal from the starting position"
   ]
  },
  {
   "cell_type": "code",
   "execution_count": 30,
   "metadata": {},
   "outputs": [],
   "source": [
    "def BFS(RT,r,c,g):\n",
    "    Q = Queue()\n",
    "    Q.enqueue(r,c)\n",
    "    F = np.full((RT.shape[0],RT.shape[1]),False,dtype=bool)\n",
    "    F[r,c] = True\n",
    "    while True:\n",
    "        k = Q.dequeue()\n",
    "        if k == False:\n",
    "            break\n",
    "        if RT[k[0],k[1]] == g:\n",
    "                return k\n",
    "        if k[0] != 0 and not F[k[0]-1,k[1]]:\n",
    "            Q.enqueue(k[0]-1,k[1])\n",
    "            F[k[0]-1,k[1]] = True\n",
    "        if k[0] != RT.shape[0]-1 and not F[k[0]+1,k[1]]:\n",
    "            Q.enqueue(k[0]+1,k[1]) \n",
    "            F[k[0]+1,k[1]] = True\n",
    "        if k[1] != 0 and not F[k[0],k[1]-1]:\n",
    "            Q.enqueue(k[0],k[1]-1)\n",
    "            F[k[0],k[1]-1] = True\n",
    "        if k[1] != RT.shape[1]-1 and not F[k[0],k[1]+1]:\n",
    "            Q.enqueue(k[0],k[1]+1)  \n",
    "            F[k[0],k[1]+1] = True  "
   ]
  },
  {
   "cell_type": "markdown",
   "metadata": {},
   "source": [
    "### hashB(npArray,bits):\n",
    "    Input:  npArray(key), how many bits will return\n",
    "    Return: some bits"
   ]
  },
  {
   "cell_type": "code",
   "execution_count": 31,
   "metadata": {},
   "outputs": [],
   "source": [
    "def hashB(npArray,bits):\n",
    "    return np.mod(xxh32(npArray).intdigest(), 2**bits)"
   ]
  },
  {
   "cell_type": "markdown",
   "metadata": {},
   "source": [
    "### def fold(Dec_num,bit):\n",
    "    Input:  Dec_num (decimal number), bit (number of bits to return)\n",
    "    Return: folded binary representation with the specified number of bits\n",
    "    Info:   convert the decimal number to binary, then fold the binary array into the specified number of  bits"
   ]
  },
  {
   "cell_type": "code",
   "execution_count": 32,
   "metadata": {},
   "outputs": [],
   "source": [
    "def fold(Dec_num,bit):\n",
    "    k = B2D.Dec2Bin(Dec_num)\n",
    "    l = len(k)\n",
    "    while(l > bit):\n",
    "        l >>= 1\n",
    "        a = k[:l]\n",
    "        b = k[l:]\n",
    "        k = []\n",
    "        for i in range(l):\n",
    "            k.append(a[i]^b[i])\n",
    "    return B2D.Bin2Dec(k)"
   ]
  },
  {
   "cell_type": "markdown",
   "metadata": {},
   "source": [
    "### def perturbed(r, g, a):\n",
    "    Input:  r (red value), g (green value), a (amplitude of perturbation)\n",
    "    Return: array of possible perturbed values for (r, g)\n",
    "    Info:   generates all possible (r, g) pairs by perturbing the original values within the range [-a, a) while keeping the values within valid RGB bounds (0 to 255)\n",
    "\n"
   ]
  },
  {
   "cell_type": "code",
   "execution_count": 33,
   "metadata": {},
   "outputs": [],
   "source": [
    "def perturbed(r,g,a):\n",
    "    possible = []\n",
    "    for i in range(-1*a,a):\n",
    "        for j in range(-1*a,a):\n",
    "            if(not (r+i < 0 or r+i > 255 or g+j < 0 or g+j > 255)):\n",
    "                possible.append([r+i,g+j])\n",
    "    return np.array(possible)"
   ]
  },
  {
   "cell_type": "markdown",
   "metadata": {},
   "source": [
    "### def remedy(r, g, b, ac):\n",
    "    Input:  r (red value), g (green value), b (blue value), ac (verification code)\n",
    "    Return: modified RGB values [r', g', b'] that match certain grayscale constraints\n",
    "    Info:   the function first computes the grayscale value based on the input RGB values. Then, it perturbs the red and green values within a small range using the `perturbed()` function, and adjusts the blue value by rounding it to a multiple of 4. The function then checks for the combination of red, green, and blue values that maintains the same grayscale value for two specific calculations (with and without adding 3 to the blue component). Once a valid combination is found, it adjusts the blue value based on `ac` (verification code) and returns the RGB combination that minimizes the distance from the original input.\n"
   ]
  },
  {
   "cell_type": "code",
   "execution_count": 34,
   "metadata": {},
   "outputs": [],
   "source": [
    "def remedy(r,g,b,ac):\n",
    "    Gray = round(r*0.299+g*0.587+b*0.114)\n",
    "    rg_poss = perturbed(r,g,2)\n",
    "    b_poss = []\n",
    "    origin_b = b\n",
    "    b >>= 2\n",
    "    b <<= 2\n",
    "    for i in range(-1,2):\n",
    "        if(b + i*4 >= 0 and b + i*4 <= 255):\n",
    "            b_poss.append(b + i*4)\n",
    "\n",
    "    b_poss = np.array(b_poss)\n",
    "\n",
    "    tar = None\n",
    "    distance = np.inf\n",
    "    for i in range(len(rg_poss)):\n",
    "        for j in range(len(b_poss)):\n",
    "            if(Gray == round(rg_poss[i,0]*0.299+rg_poss[i,1]*0.587+b_poss[j]*0.114) and\n",
    "               Gray == round(rg_poss[i,0]*0.299+rg_poss[i,1]*0.587+(b_poss[j]+3)*0.114)):\n",
    "                b_poss[j] >>= 2\n",
    "                b_poss[j] <<= 2\n",
    "                b_poss[j] += ac\n",
    "                \n",
    "                new_d = ((rg_poss[i,0]-r)**2 + (rg_poss[i,1]-g)**2 + (b_poss[j]-origin_b)**2)**0.5\n",
    "\n",
    "                if(new_d < distance):\n",
    "                    distance = new_d\n",
    "                    tar = [rg_poss[i,0],rg_poss[i,1],b_poss[j]]\n",
    "\n",
    "    return tar"
   ]
  },
  {
   "cell_type": "markdown",
   "metadata": {},
   "source": [
    "### def AVGI(Graph):\n",
    "    Input:  Graph (image filename)\n",
    "    Return: PSNR value, count of outliers, and saves the modified image\n",
    "    Info:   The function embeds a verification code (grayscale value) into the red (R) and blue (B) channels of an image using the APPM (Adaptive Pixel Pair Matching) method. Instead of directly embedding the code into the least significant bits (LSB), it adjusts the R and B values by modifying their positions in the APPM reference table to embed the grayscale value as a verification code. The green channel (G) is adjusted to maintain the grayscale consistency, ensuring that the pixel remains as close as possible to the original grayscale value. The function calculates the PSNR (Peak Signal-to-Noise Ratio) to assess the image quality and saves the modified image.\n",
    "\n",
    "    Detailed Steps:\n",
    "    1. Load the image from the path `'image/'+Graph+'.tiff'`.\n",
    "    2. Copy the image to `Stego` to create a modified version for embedding the code.\n",
    "    3. Initialize the APPM reference table using `APPM_RT(256)`.\n",
    "    4. Iterate through each pixel of the image:\n",
    "       - Compute the grayscale value using the formula `Gray = 0.299 * R + 0.587 * G + 0.114 * B`.\n",
    "       - Round the grayscale value to the nearest integer and use this as the verification code (`ac`).\n",
    "       - Use the `BFS()` function to find the nearest R and B values in the APPM reference table for embedding the verification code.\n",
    "       - Adjust the green channel (`g_bar`) to maintain the grayscale consistency based on the modified R and B values.\n",
    "       - Handle edge cases where `g_bar` exceeds the valid RGB range (0-255) by adjusting `g_bar` and tracking the number of outliers (`p`).\n",
    "    5. Calculate the mean squared error (MSE) between the original and modified pixel values.\n",
    "    6. Compute the PSNR to evaluate the quality of the stego image.\n",
    "    7. Save the modified image and write the PSNR and outlier count to a text file.\n",
    "    8. Display the modified image using `io.imshow()` and save it as a PNG.\n"
   ]
  },
  {
   "cell_type": "code",
   "execution_count": 35,
   "metadata": {},
   "outputs": [],
   "source": [
    "def AVGI(Graph):\n",
    "    path = 'image/'+Graph\n",
    "    I=io.imread(path +r'.tiff')\n",
    "    Stego = I.copy()\n",
    "    RT = APPM_RT(256)\n",
    "\n",
    "    p = 0\n",
    "    MSE = 0\n",
    "\n",
    "    for i in range(Stego.shape[0]):\n",
    "        for j in range(Stego.shape[1]):\n",
    "            Gray = I[i,j,0]*0.299+I[i,j,1]*0.587+I[i,j,2]*0.114\n",
    "            G_round = round(Gray)\n",
    "            ac = G_round    \n",
    "            \n",
    "            k = BFS(RT,Stego[i,j,0],Stego[i,j,2],ac)          \n",
    "\n",
    "            Stego[i,j,0] = k[0]\n",
    "            Stego[i,j,2] = k[1]  \n",
    "            g_bar = int((Gray - 0.299*k[0] - 0.114*k[1])/0.587)\n",
    "            if(round(0.299*k[0]+0.587*g_bar+0.114*k[1]) < round(Gray)):\n",
    "                g_bar += 1\n",
    "            elif(round(0.299*k[0]+0.587*g_bar+0.114*k[1]) > round(Gray)):\n",
    "                g_bar -= 1\n",
    "\n",
    "            if(g_bar > 255):\n",
    "                p += 1\n",
    "                g_bar = 510 - abs(int((G_round - 0.299*k[0] - 0.114*k[1])/0.587))\n",
    "            elif(g_bar < 0):\n",
    "                p += 1\n",
    "                g_bar = abs(int((G_round - 0.299*k[0] - 0.114*k[1])/0.587))\n",
    "                \n",
    "            Stego[i,j,1] = g_bar\n",
    "\n",
    "            delta = int(Stego[i,j,2]) - int(I[i,j,2])\n",
    "            MSE += delta ** 2\n",
    "            delta = int(Stego[i,j,1]) - int(I[i,j,1])\n",
    "            MSE += delta ** 2 \n",
    "            delta = int(Stego[i,j,0]) - int(I[i,j,0])           \n",
    "            MSE += delta ** 2                                        \n",
    "\n",
    "    MSE /= (Stego.shape[0]*Stego.shape[1]*3)\n",
    "    PSNR = 10 * np.log10(65025/MSE)\n",
    "    print(f\"PSNR:{PSNR} , F:{p}\")\n",
    "\n",
    "    with open(\"processing_data/\"+Graph+\".txt\",\"w\") as file:\n",
    "        file.write(f\"PSNR: {PSNR}\\n\")\n",
    "        file.write(f\"outliers: {p}\")\n",
    "\n",
    "\n",
    "    io.imshow(Stego)\n",
    "    io.show()\n",
    "    io.imsave('processing_image/'+Graph+'.png',Stego)"
   ]
  },
  {
   "cell_type": "markdown",
   "metadata": {},
   "source": [
    "### def Authorize(Graph):\n",
    "    Input:  Graph (image filename)\n",
    "    Return: None (displays the verification result and modified image)\n",
    "    Info:   The function checks if the image has been tampered with by verifying the embedded grayscale value (used as a verification code) in the red (R) and blue (B) channels. The grayscale value is derived from the APPM (Adaptive Pixel Pair Matching) reference table. The function compares the stored grayscale value with the one reconstructed from the R and B values. If there is a mismatch, the function first checks whether the green (G) value adheres to the foldback rule. For example, if the required green value (G) to balance the red (R) and blue (B) values is negative (e.g., G = -3), the green value is folded back to its positive equivalent (G = 3) to maintain a valid RGB range. Only if the green value does not satisfy the foldback rule, the pixel is marked as tampered by setting its RGB values to white (255, 255, 255). Otherwise, if the green value after foldback still maintains the intended grayscale balance, the pixel is considered untampered and marked as black (0, 0, 0). This ensures that some natural adjustments (like green foldback) are allowed without flagging the pixel as tampered, while actual mismatches that cannot be corrected are flagged as tampered.\n",
    "\n",
    "\n",
    "\n",
    "    Detailed Steps:\n",
    "    1. Load the image from the path `'embeding_noise/'+Graph+'.png'`.\n",
    "    2. Copy the image to `Stego` to check the integrity of the embedded grayscale value.\n",
    "    3. Initialize the APPM reference table using `APPM_RT(256)`.\n",
    "    4. Iterate through each pixel of the image:\n",
    "       - Compute the grayscale value using `Gray = 0.299 * R + 0.587 * G + 0.114 * B`.\n",
    "       - Round the grayscale value to the nearest integer and use it as the verification code (`ac`).\n",
    "       - Compare the stored verification code with the one derived from the APPM reference table.\n",
    "       - If a mismatch is found, mark the pixel as tampered by setting its RGB values to (255, 255, 255).\n",
    "       - If no mismatch is found, mark the pixel as untampered by setting its RGB values to (0, 0, 0).\n",
    "       - Print the details of tampered pixels including their coordinates and values.\n",
    "    5. Display the modified image using `io.imshow()`.\n",
    "    6. Print a message indicating whether the image has been tampered with.\n"
   ]
  },
  {
   "cell_type": "code",
   "execution_count": 36,
   "metadata": {},
   "outputs": [],
   "source": [
    "def Authorize(Graph):\n",
    "    path = \"embeding_noise/\"+Graph+\".png\"\n",
    "\n",
    "    I=io.imread(path)\n",
    "    Stego = I.copy()\n",
    "    RT = APPM_RT(256)\n",
    "    print(Stego.shape[2])\n",
    "    Flag = False\n",
    "\n",
    "    for i in range(Stego.shape[0]):\n",
    "        for j in range(Stego.shape[1]):\n",
    "            Gray = I[i,j,0]*0.299+I[i,j,1]*0.587+I[i,j,2]*0.114\n",
    "            G_round = round(Gray)\n",
    "            ac = G_round\n",
    "            flag = False\n",
    "            if(ac > RT[Stego[i,j,0],Stego[i,j,2]]):\n",
    "                ac = abs(int((RT[Stego[i,j,0],Stego[i,j,2]] - 0.299*Stego[i,j,0] - 0.114*Stego[i,j,2])/0.587))\n",
    "                if(Stego[i,j,1] != ac):\n",
    "                    Stego[i,j,0] = 255\n",
    "                    Stego[i,j,1] = 255\n",
    "                    Stego[i,j,2] = 255\n",
    "                    flag = True\n",
    "                    print(f\"This picture is tampered. i: {i} ,j: {j} ,Stego:{Stego[i,j]} ,Gray:{Gray}, RT:{RT[Stego[i,j,0],Stego[i,j,2]]}\")\n",
    "                    Flag = True\n",
    "            elif(ac < RT[Stego[i,j,0],Stego[i,j,2]]):\n",
    "                ac = 510 - abs(int((RT[Stego[i,j,0],Stego[i,j,2]] - 0.299*Stego[i,j,0] - 0.114*Stego[i,j,2])/0.587))\n",
    "                if(Stego[i,j,1] != ac):                \n",
    "                    Stego[i,j,0] = 255\n",
    "                    Stego[i,j,1] = 255\n",
    "                    Stego[i,j,2] = 255\n",
    "                    flag = True\n",
    "                    print(f\"This picture is tampered. i: {i} ,j: {j} ,Stego:{Stego[i,j]} ,Gray:{Gray}, RT:{RT[Stego[i,j,0],Stego[i,j,2]]}\")\n",
    "                    Flag = True\n",
    "            if(not flag):\n",
    "                Stego[i,j,0] = 0\n",
    "                Stego[i,j,1] = 0\n",
    "                Stego[i,j,2] = 0\n",
    "    io.imshow(Stego, vmin=0, vmax=255)\n",
    "     \n",
    "    plt.show()  # 不调用 tight_layout\n",
    "    if(not Flag):\n",
    "        print(\"This picture is not tampered.\")"
   ]
  }
 ],
 "metadata": {
  "kernelspec": {
   "display_name": "Python 3",
   "language": "python",
   "name": "python3"
  },
  "language_info": {
   "codemirror_mode": {
    "name": "ipython",
    "version": 3
   },
   "file_extension": ".py",
   "mimetype": "text/x-python",
   "name": "python",
   "nbconvert_exporter": "python",
   "pygments_lexer": "ipython3",
   "version": "3.10.7"
  }
 },
 "nbformat": 4,
 "nbformat_minor": 2
}
